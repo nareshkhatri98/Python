{
 "cells": [
  {
   "cell_type": "markdown",
   "id": "6570e480",
   "metadata": {},
   "source": [
    "# First program in python...\n",
    "\n"
   ]
  },
  {
   "cell_type": "code",
   "execution_count": 8,
   "id": "2b1f7a85",
   "metadata": {},
   "outputs": [
    {
     "name": "stdout",
     "output_type": "stream",
     "text": [
      "Hello word!.. this is our first program\n"
     ]
    }
   ],
   "source": [
    "print(\"Hello word!.. this is our first program\")"
   ]
  },
  {
   "cell_type": "code",
   "execution_count": 1,
   "id": "d899ee49",
   "metadata": {},
   "outputs": [
    {
     "name": "stdout",
     "output_type": "stream",
     "text": [
      "for single line comment we use {#}\n",
      "24\n"
     ]
    }
   ],
   "source": [
    "#this is single line comment..(#)\n",
    "\n",
    "print(\"for single line comment we use {#}\")\n",
    "\n",
    "\n",
    "a= 12\n",
    "b = 12\n",
    "c= a+b\n",
    "print(c)\n",
    "\n",
    "\n",
    "\n"
   ]
  },
  {
   "cell_type": "markdown",
   "id": "bbe150e5",
   "metadata": {},
   "source": [
    "# variable  in python\n"
   ]
  },
  {
   "cell_type": "code",
   "execution_count": 1,
   "id": "a06ea560",
   "metadata": {},
   "outputs": [
    {
     "name": "stdout",
     "output_type": "stream",
     "text": [
      "2\n"
     ]
    }
   ],
   "source": [
    "x = 2\n",
    "print(x)"
   ]
  },
  {
   "cell_type": "code",
   "execution_count": null,
   "id": "c6925de2",
   "metadata": {},
   "outputs": [
    {
     "ename": "",
     "evalue": "",
     "output_type": "error",
     "traceback": [
      "\u001b[1;31mRunning cells with 'c:\\Users\\Naresh Khatri\\AppData\\Local\\Programs\\Python\\Python311\\python.exe' requires the ipykernel package.\n",
      "\u001b[1;31mRun the following command to install 'ipykernel' into the Python environment. \n",
      "\u001b[1;31mCommand: '\"c:/Users/Naresh Khatri/AppData/Local/Programs/Python/Python311/python.exe\" -m pip install ipykernel -U --user --force-reinstall'"
     ]
    }
   ],
   "source": [
    "1student =\"Hari\"\n",
    "print(1student)"
   ]
  },
  {
   "cell_type": "code",
   "execution_count": 6,
   "id": "47d3b4b7",
   "metadata": {},
   "outputs": [
    {
     "name": "stdout",
     "output_type": "stream",
     "text": [
      "Hari\n"
     ]
    }
   ],
   "source": [
    "studnt_1 =\"Hari\"\n",
    "print(studnt_1)"
   ]
  },
  {
   "cell_type": "code",
   "execution_count": 7,
   "id": "aae042f7",
   "metadata": {},
   "outputs": [
    {
     "name": "stdout",
     "output_type": "stream",
     "text": [
      "123\n"
     ]
    }
   ],
   "source": [
    "_a_ = 123\n",
    "print(_a_)"
   ]
  },
  {
   "cell_type": "markdown",
   "id": "b85ef7d9",
   "metadata": {},
   "source": [
    "# Many values to multiple variable.."
   ]
  },
  {
   "cell_type": "code",
   "execution_count": 12,
   "id": "de5c2c5d",
   "metadata": {},
   "outputs": [
    {
     "name": "stdout",
     "output_type": "stream",
     "text": [
      "Bisham Thapa Chiran Raj  Thapa Naresh Khatri\n",
      "Bisham Thapa\n",
      "Chiran Raj  Thapa\n",
      "Naresh Khatri\n"
     ]
    }
   ],
   "source": [
    "x,y,z = \"Bisham Thapa\", \"Chiran Raj  Thapa\" , \"Naresh Khatri\"\n",
    "print(x,y,z)\n",
    "\n",
    "print(x)\n",
    "print(y)\n",
    "print(z)"
   ]
  },
  {
   "cell_type": "markdown",
   "id": "029ccde9",
   "metadata": {},
   "source": [
    "# Data types.."
   ]
  },
  {
   "cell_type": "code",
   "execution_count": 13,
   "id": "37530c8d",
   "metadata": {},
   "outputs": [
    {
     "name": "stdout",
     "output_type": "stream",
     "text": [
      "12\n",
      "<class 'int'>\n"
     ]
    }
   ],
   "source": [
    "x = 12\n",
    "print(x)\n",
    "print(type(x))"
   ]
  },
  {
   "cell_type": "code",
   "execution_count": 14,
   "id": "c6649a76",
   "metadata": {},
   "outputs": [
    {
     "name": "stdout",
     "output_type": "stream",
     "text": [
      "12.44\n",
      "<class 'float'>\n"
     ]
    }
   ],
   "source": [
    "a = 12.44;\n",
    "print(a)\n",
    "print(type(a))"
   ]
  },
  {
   "cell_type": "code",
   "execution_count": 15,
   "id": "a5707728",
   "metadata": {},
   "outputs": [
    {
     "name": "stdout",
     "output_type": "stream",
     "text": [
      "Jhon Thapa\n",
      "<class 'str'>\n"
     ]
    }
   ],
   "source": [
    "name = \"Jhon Thapa\"\n",
    "print(name)\n",
    "print(type(name))"
   ]
  },
  {
   "cell_type": "code",
   "execution_count": 16,
   "id": "ac1d74fa",
   "metadata": {},
   "outputs": [
    {
     "name": "stdout",
     "output_type": "stream",
     "text": [
      "{1, 2, 3, 4, 5, 6, 7, 8, 9}\n",
      "<class 'set'>\n"
     ]
    }
   ],
   "source": [
    "numbers = {1,2,3,4,5,6,7,8,9}\n",
    "print(numbers)\n",
    "print(type(numbers))"
   ]
  },
  {
   "cell_type": "code",
   "execution_count": 19,
   "id": "6ac3485b",
   "metadata": {},
   "outputs": [
    {
     "name": "stdout",
     "output_type": "stream",
     "text": [
      "(12, 13, 14, 15, 13, 5)\n",
      "<class 'tuple'>\n"
     ]
    }
   ],
   "source": [
    "Numbers1 = (12,13, 14, 15 ,13,5)\n",
    "print(Numbers)\n",
    "print(type(Numbers))"
   ]
  },
  {
   "cell_type": "code",
   "execution_count": 21,
   "id": "dd3b9229",
   "metadata": {},
   "outputs": [
    {
     "name": "stdout",
     "output_type": "stream",
     "text": [
      "['Naresh', 'Bisham', 'Chiran', 'Arbeen']\n",
      "<class 'list'>\n"
     ]
    }
   ],
   "source": [
    "Numbers2 = [\"Naresh\", \"Bisham\",\"Chiran\",\"Arbeen\"]\n",
    "print(Numbers2)\n",
    "print(type(Numbers2))"
   ]
  },
  {
   "cell_type": "code",
   "execution_count": 24,
   "id": "2a5ffbaa",
   "metadata": {},
   "outputs": [
    {
     "name": "stdout",
     "output_type": "stream",
     "text": [
      "True\n",
      "<class 'bool'>\n",
      "False\n",
      "<class 'bool'>\n"
     ]
    }
   ],
   "source": [
    "decision1 = True\n",
    "Decision2 = False\n",
    "print(decision1)\n",
    "print(type(decision1))\n",
    "print(Decision2)\n",
    "print(type(Decision2))\n"
   ]
  },
  {
   "cell_type": "code",
   "execution_count": 25,
   "id": "7f97d452",
   "metadata": {},
   "outputs": [
    {
     "name": "stdout",
     "output_type": "stream",
     "text": [
      "(2+4j)\n",
      "<class 'complex'>\n"
     ]
    }
   ],
   "source": [
    " z = 2+4j\n",
    "print(z)\n",
    "print(type(z))"
   ]
  },
  {
   "cell_type": "code",
   "execution_count": 27,
   "id": "a91ef6bb",
   "metadata": {},
   "outputs": [
    {
     "name": "stdout",
     "output_type": "stream",
     "text": [
      "Variable    Type       Data/Info\n",
      "--------------------------------\n",
      "Decision2   bool       False\n",
      "Numbers     tuple      n=6\n",
      "Numbers2    list       n=4\n",
      "a           float      12.44\n",
      "decision    bool       True\n",
      "decision1   bool       True\n",
      "name        str        Jhon Thapa\n",
      "numbers     set        {1, 2, 3, 4, 5, 6, 7, 8, 9}\n",
      "studnt1     str        Hari\n",
      "studnt_1    str        Hari\n",
      "x           int        12\n",
      "y           str        Chiran Raj  Thapa\n",
      "z           complex    (2+4j)\n"
     ]
    }
   ],
   "source": [
    "%whos"
   ]
  },
  {
   "cell_type": "markdown",
   "id": "cbc355b8",
   "metadata": {},
   "source": [
    "# Operators in python"
   ]
  },
  {
   "cell_type": "code",
   "execution_count": 33,
   "id": "565fbcf1",
   "metadata": {},
   "outputs": [
    {
     "name": "stdout",
     "output_type": "stream",
     "text": [
      "Sum of x and y is: 25\n"
     ]
    }
   ],
   "source": [
    "#addition operator\n",
    "x = 12\n",
    "y = 13\n",
    "print(\"Sum of x and y is:\",(x+y))\n"
   ]
  },
  {
   "cell_type": "code",
   "execution_count": 34,
   "id": "c36cb2bc",
   "metadata": {},
   "outputs": [
    {
     "name": "stdout",
     "output_type": "stream",
     "text": [
      "Subtraction is : -1\n"
     ]
    }
   ],
   "source": [
    "#Subraction..\n",
    "number1 = 13\n",
    "number = 12\n",
    "print(\"Subtraction is :\",(x-y))"
   ]
  },
  {
   "cell_type": "code",
   "execution_count": 36,
   "id": "d44dd601",
   "metadata": {},
   "outputs": [
    {
     "name": "stdout",
     "output_type": "stream",
     "text": [
      "Multiply is : 156\n"
     ]
    }
   ],
   "source": [
    "#Multipy..\n",
    "Number1 = 12\n",
    "Number2 =3\n",
    "print(\"Multiply is :\", (x*y))"
   ]
  },
  {
   "cell_type": "code",
   "execution_count": 39,
   "id": "d84e50d4",
   "metadata": {},
   "outputs": [
    {
     "name": "stdout",
     "output_type": "stream",
     "text": [
      "Division is: 61.5\n"
     ]
    }
   ],
   "source": [
    "#Division \n",
    "Number1 = 123;\n",
    "number2 =2\n",
    "print(\"Division is:\" ,(Number1/number2))"
   ]
  },
  {
   "cell_type": "code",
   "execution_count": 40,
   "id": "7180df0e",
   "metadata": {},
   "outputs": [
    {
     "name": "stdout",
     "output_type": "stream",
     "text": [
      "Modules is : 1.5833333333333333\n"
     ]
    }
   ],
   "source": [
    "#modules..\n",
    "Numb1 = 19\n",
    "numb2= 12\n",
    "print(\"Modules is :\", (Numb1/numb2))"
   ]
  },
  {
   "cell_type": "code",
   "execution_count": null,
   "id": "f586fa00",
   "metadata": {},
   "outputs": [],
   "source": []
  }
 ],
 "metadata": {
  "kernelspec": {
   "display_name": "Python 3 (ipykernel)",
   "language": "python",
   "name": "python3"
  },
  "language_info": {
   "codemirror_mode": {
    "name": "ipython",
    "version": 3
   },
   "file_extension": ".py",
   "mimetype": "text/x-python",
   "name": "python",
   "nbconvert_exporter": "python",
   "pygments_lexer": "ipython3",
   "version": "3.11.1"
  }
 },
 "nbformat": 4,
 "nbformat_minor": 5
}
